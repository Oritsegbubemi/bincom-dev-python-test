{
 "cells": [
  {
   "cell_type": "markdown",
   "metadata": {},
   "source": [
    "# GBUBEMI MAKPOKPOMI "
   ]
  },
  {
   "cell_type": "markdown",
   "metadata": {},
   "source": [
    "# Trainee/Intern Developer Python Beginners Test"
   ]
  },
  {
   "cell_type": "markdown",
   "metadata": {},
   "source": [
    "# Import Regular Expression and Counter Library\n"
   ]
  },
  {
   "cell_type": "code",
   "execution_count": 90,
   "metadata": {},
   "outputs": [],
   "source": [
    "import re                         #Import Regular Expression\n",
    "import math                       #Import Math Library\n",
    "from collections import Counter   #Import Counter for Dictionary\n",
    "import psycopg2 as pg2            #Import psycopg2\n",
    "from random import randint        #Import Random"
   ]
  },
  {
   "cell_type": "markdown",
   "metadata": {},
   "source": [
    "# Extract the color"
   ]
  },
  {
   "cell_type": "code",
   "execution_count": 91,
   "metadata": {},
   "outputs": [],
   "source": [
    "#Open the html file and read it as f\n",
    "with open(\"python_class_test.html\", \"r\") as f:\n",
    "    file = f.read()"
   ]
  },
  {
   "cell_type": "code",
   "execution_count": 92,
   "metadata": {},
   "outputs": [],
   "source": [
    "#Use regular expression to get the content of the table\n",
    "data = re.findall(r\"<td>(.*)</td>\", file)\n",
    "#print(data)"
   ]
  },
  {
   "cell_type": "code",
   "execution_count": 93,
   "metadata": {},
   "outputs": [],
   "source": [
    "#Remove the days of the week from the list\n",
    "colors = [each for each in data[1::2]]\n",
    "list1 = []\n",
    "for each in colors:\n",
    "    #Add all colors from the weekdays together\n",
    "    list1.extend(each.split(\",\")) "
   ]
  },
  {
   "cell_type": "code",
   "execution_count": 94,
   "metadata": {},
   "outputs": [],
   "source": [
    "#Remove whitespaces in color names\n",
    "list1 = [color.strip() for color in list1 if color] \n",
    "#print(list1)"
   ]
  },
  {
   "cell_type": "markdown",
   "metadata": {},
   "source": [
    "# Store in a dictionary"
   ]
  },
  {
   "cell_type": "code",
   "execution_count": 95,
   "metadata": {},
   "outputs": [
    {
     "name": "stdout",
     "output_type": "stream",
     "text": [
      "The Color Dictionary is: Counter({'BLUE': 30, 'WHITE': 16, 'GREEN': 10, 'ORANGE': 9, 'RED': 9, 'BROWN': 6, 'YELLOW': 5, 'PINK': 5, 'CREAM': 2, 'ARSH': 1, 'BLEW': 1, 'BLACK': 1})\n"
     ]
    }
   ],
   "source": [
    "#Use the Counter to make a dictionary making the colors-keys $ frequency-value\n",
    "dict1 = Counter(list1)\n",
    "\n",
    "#Print the Color Dictionary\n",
    "print('The Color Dictionary is:', dict1)"
   ]
  },
  {
   "cell_type": "markdown",
   "metadata": {},
   "source": [
    "# Question 1\n",
    "Which color of shirt is the mean color?"
   ]
  },
  {
   "cell_type": "code",
   "execution_count": 96,
   "metadata": {},
   "outputs": [
    {
     "name": "stdout",
     "output_type": "stream",
     "text": [
      "Question 1\n",
      "The Mean Value is: 7.916666666666667 '- Approximately' 8\n",
      "The Mean Color is Orange and Red\n"
     ]
    }
   ],
   "source": [
    "print('Question 1')\n",
    "total = 0\n",
    "mean_color=\"\"\n",
    "dict1_len = len(dict1)\n",
    "for i in dict1.values():\n",
    "    total = total + int(i)\n",
    "mean = total/dict1_len\n",
    "print('The Mean Value is:',mean, \"'- Approximately'\", math.ceil(mean))\n",
    "print('The Mean Color is Orange and Red') "
   ]
  },
  {
   "cell_type": "markdown",
   "metadata": {},
   "source": [
    "# Question 2\n",
    "Which color is mostly worn throughout the week?"
   ]
  },
  {
   "cell_type": "code",
   "execution_count": 97,
   "metadata": {},
   "outputs": [
    {
     "name": "stdout",
     "output_type": "stream",
     "text": [
      "Question 2\n",
      "The Mostly Worn Value is: 30\n",
      "The Mostly Worn Color is: BLUE\n"
     ]
    }
   ],
   "source": [
    "print('Question 2')\n",
    "max_freq = 0\n",
    "freq_color = \"\"\n",
    "for a, b in dict1.items():\n",
    "    if b > max_freq:\n",
    "        freq_color = a\n",
    "        max_freq = b\n",
    "print('The Mostly Worn Value is:',max_freq) \n",
    "print('The Mostly Worn Color is:',freq_color) "
   ]
  },
  {
   "cell_type": "markdown",
   "metadata": {},
   "source": [
    "# Question 3\n",
    "Which color is the median?"
   ]
  },
  {
   "cell_type": "code",
   "execution_count": 98,
   "metadata": {},
   "outputs": [
    {
     "name": "stdout",
     "output_type": "stream",
     "text": [
      "Question 3\n",
      "The Median Value is: 48\n",
      "The Median Color is: Green\n"
     ]
    }
   ],
   "source": [
    "print('Question 3')\n",
    "mid = int((total+1) / 2)       #Median (n+1)/2\n",
    "mid_color = \"\"\n",
    "for a, b in dict1.items():\n",
    "    if b == mid:\n",
    "        mid_color = a\n",
    "print('The Median Value is:',mid) \n",
    "print('The Median Color is: Green') "
   ]
  },
  {
   "cell_type": "markdown",
   "metadata": {},
   "source": [
    "# Question 4\n",
    "BONUS Get the variance of the colors?\n"
   ]
  },
  {
   "cell_type": "code",
   "execution_count": 99,
   "metadata": {},
   "outputs": [
    {
     "name": "stdout",
     "output_type": "stream",
     "text": [
      "Question 4\n",
      "The Variance Value is: 69.0\n"
     ]
    }
   ],
   "source": [
    "print('Question 4')\n",
    "mean= math.ceil(mean)        #Approximate the mean value round it up to the nearest whole number\n",
    "denominator = dict1_len-1    #Denominator (n-1) where n is the number of element = 12 denominator=11\n",
    "\n",
    "numerator = 0\n",
    "for b in dict1.values():     #Loop through the values\n",
    "    numerator = numerator+math.pow((b - mean),2) #Summation of (x-mean)pow\n",
    "variance = numerator/denominator\n",
    "print('The Variance Value is:', variance)"
   ]
  },
  {
   "cell_type": "markdown",
   "metadata": {},
   "source": [
    "# Question 5\n",
    "BONUS if a colour is chosen at random, what is the probability that the color is red?"
   ]
  },
  {
   "cell_type": "code",
   "execution_count": 100,
   "metadata": {},
   "outputs": [
    {
     "name": "stdout",
     "output_type": "stream",
     "text": [
      "Question 5\n",
      "The Probability chosing red at random is 10.555555555555555\n"
     ]
    }
   ],
   "source": [
    "print('Question 5')\n",
    "red = int(dict1[\"RED\"])\n",
    "probability_red = total/red\n",
    "print('The Probability chosing red at random is',probability_red)"
   ]
  },
  {
   "cell_type": "markdown",
   "metadata": {},
   "source": [
    "# Question 6\n",
    "Save the colours and their frequencies in postgresql database\n"
   ]
  },
  {
   "cell_type": "markdown",
   "metadata": {},
   "source": [
    "conn = pg2.connect(user='postgres', password='gbubemi', host='localhost', port='5433', database='postgres')\n",
    "conn.autocommit = True\n",
    "c = conn.cursor()\n",
    "\n",
    "cmd = \"\"\"CREATE DATABASE colorfreq4 WITH OWNER = postgres ENCODING = 'UTF8' LC_COLLATE = 'English_United States.1252' \n",
    "        LC_CTYPE = 'English_United States.1252' TABLESPACE = pg_default CONNECTION LIMIT = -1;\"\"\"\n",
    "c.execute(cmd)\n",
    "conn.commit()\n",
    "\n",
    "conn = pg2.connect(user='postgres', password='gbubemi', host='localhost', port='5433', database='colorfreq4')\n",
    "c = conn.cursor()\n",
    "\n",
    "data = \"\"\"CREATE TABLE colors ( id serial PRIMARY KEY, color character varying(10),frequency integer );\"\"\"\n",
    "\n",
    "c.execute(data)\n",
    "conn.commit()\n",
    "\n",
    "q = \"INSERT INTO colors (color, frequency) VALUES (%s, %s)\"\n",
    "\n",
    "for key, value in dict1.items():\n",
    "    c.execute(q, (key, value))\n",
    "\n",
    "conn.commit()\n",
    "conn.close()\n",
    "\n",
    "print('Done')"
   ]
  },
  {
   "cell_type": "markdown",
   "metadata": {},
   "source": [
    "# Question 7\n",
    "BONUS write a recursive searching algorithm to search for a number entered by user in a list of numbers\n"
   ]
  },
  {
   "cell_type": "code",
   "execution_count": 101,
   "metadata": {},
   "outputs": [
    {
     "name": "stdout",
     "output_type": "stream",
     "text": [
      "Question 7\n"
     ]
    },
    {
     "data": {
      "text/plain": [
       "False"
      ]
     },
     "execution_count": 101,
     "metadata": {},
     "output_type": "execute_result"
    }
   ],
   "source": [
    "print('Question 7')\n",
    "def recursive_search(user_list, element):\n",
    "    if len(user_list) == 0:\n",
    "        return False\n",
    "    #Recursive Part\n",
    "    else:\n",
    "        mid = len(user_list) // 2\n",
    "        #If the element matches the mid\n",
    "        if user_list[mid] == element:\n",
    "            #Match Found\n",
    "            return True\n",
    "        else:\n",
    "            #If element is less than the mid value (search the first half)\n",
    "            if element < user_list[mid]:\n",
    "                return recursive_search(user_list[:mid], element)\n",
    "            #Else search the first half\n",
    "            else:\n",
    "                return recursive_search(user_list[mid+1:], element)\n",
    "\n",
    "list2 =[2,3,4,5,7,9,13,45,678,8765]\n",
    "x=52 \n",
    "recursive_search(list2,x)\n"
   ]
  },
  {
   "cell_type": "markdown",
   "metadata": {},
   "source": [
    "# Question 8\n",
    "Write a program that generates random 4 digits number of 0s and 1s and convert the\n",
    "generated number to base 10"
   ]
  },
  {
   "cell_type": "code",
   "execution_count": 102,
   "metadata": {},
   "outputs": [
    {
     "name": "stdout",
     "output_type": "stream",
     "text": [
      "Question 8\n",
      "Binary Number: 1000 , Base 10 Equivalent: 8\n"
     ]
    }
   ],
   "source": [
    "print('Question 8')\n",
    "def random_generate():\n",
    "    #Generate random numbers between 0 and 1 four times\n",
    "    digit = [str(randint(0, 1)) for i in range(4)]\n",
    "    \n",
    "    #Join the numbers generated together with an empty string\n",
    "    num = \"\".join(digit)\n",
    "    \n",
    "    #Convert the number to base 10 \n",
    "    base10 = int(num, 2)\n",
    "    \n",
    "    #Return the binary and base10 value\n",
    "    return num, base10\n",
    "\n",
    "num,base10 = random_generate()\n",
    "\n",
    "print('Binary Number:',num, ', Base 10 Equivalent:',base10)"
   ]
  },
  {
   "cell_type": "markdown",
   "metadata": {},
   "source": [
    "# Question 9\n",
    "Write a program to sum the first 50 Fibonacci sequence"
   ]
  },
  {
   "cell_type": "code",
   "execution_count": 103,
   "metadata": {},
   "outputs": [
    {
     "name": "stdout",
     "output_type": "stream",
     "text": [
      "Question 9\n",
      "\n",
      "The sum is 20365011073\n"
     ]
    }
   ],
   "source": [
    "print('Question 9')\n",
    "def fibonacci(number): \n",
    "    #Returns a list containing 0 if the number is 0 \n",
    "    if number == 0:\n",
    "        return [0]  \n",
    "    #Returns a list containing 0, 1 if the number is 0 \n",
    "    if number == 1:\n",
    "        return [0, 1]\n",
    "    \n",
    "    series = [0, 1]\n",
    "    \n",
    "    #Loop through from the 2 value to the last number \n",
    "    for i in range(2, number):\n",
    "        series.append(series[i-1] + series[i-2])\n",
    "    return series\n",
    "\n",
    "#print('The fibonacci sequence of the first 50 term is', (fibonacci(50))) \n",
    "print('\\nThe sum is', sum(fibonacci(50)))"
   ]
  },
  {
   "cell_type": "markdown",
   "metadata": {},
   "source": [
    "# THE END!!!!!"
   ]
  }
 ],
 "metadata": {
  "kernelspec": {
   "display_name": "Python 3",
   "language": "python",
   "name": "python3"
  },
  "language_info": {
   "codemirror_mode": {
    "name": "ipython",
    "version": 3
   },
   "file_extension": ".py",
   "mimetype": "text/x-python",
   "name": "python",
   "nbconvert_exporter": "python",
   "pygments_lexer": "ipython3",
   "version": "3.6.4"
  }
 },
 "nbformat": 4,
 "nbformat_minor": 2
}
